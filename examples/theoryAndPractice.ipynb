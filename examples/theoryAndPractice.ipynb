{
 "cells": [
  {
   "cell_type": "markdown",
   "id": "76c8211f",
   "metadata": {
    "slideshow": {
     "slide_type": "slide"
    }
   },
   "source": [
    "# Symbolic-numeric methods to solve polynomial systems\n",
    "\n",
    "$\\newcommand{C}{\\mathbb{C}}$\n",
    "$\\newcommand{P}{\\mathbb{P}}$\n",
    "$\\newcommand{R}{\\mathbb{R}}$\n",
    "$\\newcommand{N}{\\mathbb{N}}$\n",
    "$\\newcommand{Z}{\\mathbb{Z}}$\n",
    "$\\newcommand{im}{\\mathrm{im}}$\n",
    "$\\newcommand{coker}{\\mathrm{coker}}$\n",
    "$\\newcommand{span}{\\mathrm{span}}$\n",
    "$\\newcommand{ideal}[1]{\\langle #1 \\rangle}$\n",
    "$\\newcommand{DD}{\\mathrm{\\delta^+}}$\n",
    "$\\newcommand{bm}[1]{{\\bf {#1}}}$\n",
    "$\\newcommand{Sylv}{\\mathrm{Sylv}}$\n",
    "$\\newcommand{deg}{\\mathrm{deg}}$"
   ]
  },
  {
   "cell_type": "markdown",
   "id": "195763dd",
   "metadata": {
    "slideshow": {
     "slide_type": "slide"
    }
   },
   "source": [
    "## Symbolic-numeric algorithms\n",
    "  \n",
    "  $$\n",
    "  \\begin{array}{c}\n",
    "    \\text{Polynomial} \\\\ \\text{systems}\n",
    "  \\end{array}\n",
    "  \\xrightarrow[method]{Symbolic}\n",
    "  \\begin{array}{c}\n",
    "    \\text{Linear algebra} \\\\ \\text{problem}\n",
    "  \\end{array} \n",
    "  \\xrightarrow[algorithm]{Numeric}\n",
    "  \\begin{array}{c}\n",
    "    \\text{Approximation} \\\\ \\text{of solutions}\n",
    "  \\end{array} \n",
    "  $$"
   ]
  },
  {
   "cell_type": "code",
   "execution_count": null,
   "id": "34ae0022",
   "metadata": {
    "scrolled": true,
    "slideshow": {
     "slide_type": "fragment"
    }
   },
   "outputs": [],
   "source": [
    "using DynamicPolynomials;\n",
    "using LinearAlgebra;\n",
    "\n",
    "@polyvar x\n",
    "ff =  x^3 - 2 * x^2 - 3 * x + 1\n",
    "compMat = [ 2 1 0; 3 0 1; -1 0 0 ]\n",
    "sols = eigvals(compMat)\n",
    "[ff(x => sols[i]) for i=1:3]\n",
    "\n",
    "# print - ignore\n",
    "println(\"f(x) = \", ff, \"\\n\\nCompanion matrix\"); display(compMat); println(\"Eigenvalues: \", sols); println(\"\\nSolutions:\"); for sol in sols; println(\"f($sol)\\t= \", ff(x => sol)); end"
   ]
  },
  {
   "cell_type": "markdown",
   "id": "24e0c26e",
   "metadata": {
    "slideshow": {
     "slide_type": "subslide"
    }
   },
   "source": [
    "We will show examples using the Julia package $\\texttt{EigenvalueSolver.jl}$\n",
    "\n",
    "$$ $$"
   ]
  },
  {
   "cell_type": "code",
   "execution_count": null,
   "id": "14991d49",
   "metadata": {
    "scrolled": false,
    "slideshow": {
     "slide_type": "-"
    }
   },
   "outputs": [],
   "source": [
    "## Download and install the package\n",
    "import Pkg; \n",
    "Pkg.add(url = \"https://github.com/simontelen/JuliaEigenvalueSolver.git\");\n",
    "\n",
    "## Loads the package, might take time!\n",
    "using EigenvalueSolver;"
   ]
  },
  {
   "cell_type": "markdown",
   "id": "0e2fab98",
   "metadata": {
    "slideshow": {
     "slide_type": "-"
    }
   },
   "source": [
    "$$ $$\n",
    "\n",
    "*M. R. Bender and S. Telen. \"Yet another eigenvalue algorithm for solving polynomial systems.\" arXiv:2105.08472 (2021).*"
   ]
  },
  {
   "cell_type": "markdown",
   "id": "ca204b04",
   "metadata": {
    "slideshow": {
     "slide_type": "slide"
    }
   },
   "source": [
    "### Solve zero dimensional systems using eigenvalues\n",
    "\n",
    "- Consider $f_1,\\dots,f_r \\in S := \\mathbb C[x_1,\\dots,x_n]$ and\n",
    "    $I := \\ideal{f_1,\\dots,f_r}.$\n",
    "\n",
    "- We want $\\{p \\in \\C^n : f_1(p) = \\dots = f_r(p) = 0\\}$. Assume\n",
    "    finite solutions, namely $\\{\\zeta_1,\\dots,\\zeta_\\delta\\}$."
   ]
  },
  {
   "cell_type": "markdown",
   "id": "6150eae0",
   "metadata": {
    "slideshow": {
     "slide_type": "fragment"
    }
   },
   "source": [
    "- The quotient $R := S / I$ describes the solution set:\n",
    "\n",
    "   $$R = \\{g + I : g \\in S\\}\n",
    "      \\qquad \\text{where } g + I = h + I \\iff g - h \\in I $$.\n",
    "\n",
    "   - Let $\\mu_i$ be the multiplicity of $\\zeta_i$ and define  $\\DD := \\sum_i \\mu_i$.\n",
    "   - It is a finite dimensional $\\C$-vector space of $R \\simeq \\C^{\\delta^+}$."
   ]
  },
  {
   "cell_type": "markdown",
   "id": "82a2776b",
   "metadata": {
    "slideshow": {
     "slide_type": "subslide"
    }
   },
   "source": [
    "#### Eigenvalues of the multiplication maps\n",
    "\n",
    "Given $g \\in S$, consider $M_g : R \\rightarrow R$, s.t. $h + I \\mapsto  g \\, h + I$. Then,\n",
    "  \n",
    "$$\\mathrm{CharPol}(M_g)(\\lambda) = \\prod_{i=1}^\\delta ( g(\\zeta_i) - \\lambda)^{\\mu_i}.$$\n",
    "  \n",
    " - The multiplication map commutes, i.e., for $h,g \\in S$, $$M_h \\, M_g = M_{h \\, g} = M_g \\, M_h$$"
   ]
  },
  {
   "cell_type": "markdown",
   "id": "acac8154",
   "metadata": {
    "slideshow": {
     "slide_type": "fragment"
    }
   },
   "source": [
    "- **Solve system** by computing simultaneous Schur triangulation (diagonalization) of $M_{x_1},\\dots,M_{x_n}$.\n",
    "\n",
    " - From the matrix $M_{x_i}$, we recover all the $i$-th coordinates of the solutions!"
   ]
  },
  {
   "cell_type": "markdown",
   "id": "0a435bc4",
   "metadata": {
    "slideshow": {
     "slide_type": "slide"
    }
   },
   "source": [
    "### How to compute multiplication maps\n",
    "\n",
    " - Monomial basis $B$ of $R$ $\\longrightarrow$ $\\#B = \\delta^+$\n",
    "\n",
    "   **Property/definition** for every $h \\in S$, there are $f,g$ such that $h = f + g$ and\n",
    "  - $f \\in I$, and\n",
    "  - $g \\in S_B := \\bigoplus_{b \\in B} \\C \\cdot b$ and is unique."
   ]
  },
  {
   "cell_type": "markdown",
   "id": "897fa218",
   "metadata": {
    "slideshow": {
     "slide_type": "fragment"
    }
   },
   "source": [
    " - Multiplication map $M_{f_0} \\in \\C^{\\delta^+ \\times \\delta^+}$, for $f_0 \\in S$.\n",
    "\n",
    "   **Property/definition** for every $c \\in \\C^{\\delta^+}$, there is $\\mathrm f_c \\in I$ such that\n",
    "    $$\\left( \\sum_i c_i \\, b_i \\right) \\, f_0 = [b_1,\\dots,b_{\\delta^+}] \\, M_{f_0}\n",
    "    \\left[\\begin{smallmatrix}\n",
    "      c_1 \\\\\n",
    "      \\vdots \\\\\n",
    "      c_{\\delta^+}    \n",
    "    \\end{smallmatrix} \\right]\n",
    "    +\n",
    "    \\mathrm f_{c}\n",
    "    $$"
   ]
  },
  {
   "cell_type": "markdown",
   "id": "a9c393b4",
   "metadata": {
    "slideshow": {
     "slide_type": "fragment"
    }
   },
   "source": [
    " - **Good news**: computing $M_{f_0}$ $\\rightarrow$ finding $\\mathrm f_c \\in I$, for every $c$.\n",
    " \\\n",
    "   The elements $\\{\\mathrm f_c\\}_c$ belong to finite dim subvector space of $I$\n",
    " \\\n",
    "   $\\implies$ use linear algebra to reduce each  $\\{ b_i \\, f_0 : b_i \\in B\\}$."
   ]
  },
  {
   "cell_type": "markdown",
   "id": "d3f6d31d",
   "metadata": {
    "slideshow": {
     "slide_type": "subslide"
    }
   },
   "source": [
    "## Sylvester maps \n",
    "\n",
    "Given monomial sets $\\sigma_1,\\dots,\\sigma_r$, we want to study\n",
    "$$ \\mathrm{span}_{\\mathbb C}(x^\\beta \\, f_i : x^\\beta \\in \\sigma_i) $$"
   ]
  },
  {
   "cell_type": "markdown",
   "id": "991a82fa",
   "metadata": {
    "slideshow": {
     "slide_type": "fragment"
    }
   },
   "source": [
    "Consider $\\Sigma$ such that for each $x^\\beta \\in \\sigma_i$, $x^\\beta \\cdot f_i$ only involves monomials in $\\Sigma$.\n",
    "\n",
    "We define the **Sylvester map**\n",
    "\n",
    "$$Sylv_{f_1,\\dots,f_r}^{\\sigma_1,\\dots,\\sigma_r; \\Sigma} :\n",
    "S_{\\sigma_1} \\times \\dots \\times S_{\\sigma_r} \\rightarrow S_\\Sigma\n",
    "$$\n",
    "\n",
    "$$Sylv_{f_1,\\dots,f_r}^{\\sigma_1,\\dots,\\sigma_r; \\Sigma}(g_1,\\dots,g_r) := \\sum_i g_i \\, f_i$$\n",
    "\n",
    "where $S_{\\sigma_i} = \\span_{\\C}(x^\\alpha : x^\\alpha \\in \\sigma_i)$, that is, where each $g_i$ is a linear combinations of the elements in a monomial set\n",
    "$\\sigma_i$.\n",
    "\n",
    "$$\\im(Sylv_{f_1,\\dots,f_r}^{\\sigma_1,\\dots,\\sigma_r; \\Sigma}) = \\mathrm{span}_{\\mathbb C}(x^\\beta \\, f_i : x^\\beta \\in \\sigma_i)$$"
   ]
  },
  {
   "cell_type": "markdown",
   "id": "ed7a35d2",
   "metadata": {
    "slideshow": {
     "slide_type": "subslide"
    }
   },
   "source": [
    "## Macaulay matrices\n",
    "\n",
    "- Matrix representation of the Sylvester map $Sylv_{f_1,\\dots,f_n}^{\\sigma_1,\\dots,\\sigma_n; \\Sigma} : (g_1,\\dots,g_n) \\mapsto \\sum_i g_i \\, f_i$ "
   ]
  },
  {
   "cell_type": "markdown",
   "id": "652316b0",
   "metadata": {
    "slideshow": {
     "slide_type": "fragment"
    }
   },
   "source": [
    "- The **Macaulay matrix** $\\mathrm Mac(f_1,\\dots,f_n;\\sigma_1,\\dots,\\sigma_r; \\Sigma)$ is as follows:\n",
    " - The columns are indexed by pairs $(f_i,x^\\beta)$, where $x^\\beta \\in \\sigma_i$\n",
    " - The rows are indexed by mononomials $x^\\alpha \\in \\Sigma$.\n",
    " - The entry of column $(i,x^\\beta)$ and row $x^\\alpha$ corresponds to the coefficient of $x^{\\alpha}$ in $x^\\beta \\, f_i$."
   ]
  },
  {
   "cell_type": "markdown",
   "id": "4987bdc0",
   "metadata": {
    "slideshow": {
     "slide_type": "subslide"
    }
   },
   "source": [
    "We use the function **EigenvalueSolver.getRes()** to compute Macaulay matrices matrix."
   ]
  },
  {
   "cell_type": "code",
   "execution_count": null,
   "id": "5088c44f",
   "metadata": {
    "scrolled": true,
    "slideshow": {
     "slide_type": "-"
    }
   },
   "outputs": [],
   "source": [
    "@polyvar x y\n",
    "\n",
    "F = [\n",
    "    x^2-3*x*y+2*y^2-2*x+5*y,\n",
    "    -2*x*y+6*y^2-x+y+2\n",
    "    ]\n",
    "\n",
    "σ = [\n",
    "     [x, y, 1],\n",
    "     [x, y, 1]\n",
    "    ]\n",
    "\n",
    "Σ = [x^3, x^2*y, x*y^2, y^3, x^2, y^2, x*y, x, y, 1] # Σ = monomials([x,y], 0:3)\n",
    "\n",
    "MacF = EigenvalueSolver.getRes(F,Σ,σ,[x, y])\n",
    "\n",
    "# print - ignore\n",
    "@polyvar f[0:2]\n",
    "@polyvar …\n",
    "@polyvar ⋮\n",
    "display(vcat(transpose(vcat([(…)],reduce(vcat,[f[mod(i,3)+1].*σ[i] for i=1:2]))),hcat(Σ,round.(Int, MacF))))"
   ]
  },
  {
   "cell_type": "markdown",
   "id": "1a7a84dd",
   "metadata": {
    "slideshow": {
     "slide_type": "subslide"
    }
   },
   "source": [
    "### The transpose of the Macaulay matrix (or multiplying by left)\n",
    "\n",
    "Given a point $p \\in \\C^n$, let $(p)^\\Sigma$ be the vector of evaluations of every monomial in $\\Sigma$ at $p$.\n",
    "    \n",
    "$$(p)^\\Sigma \\cdot \\mathrm Mac(f_1,\\dots,f_r;\\sigma_1,\\dots,\\sigma_r; \\Sigma)\n",
    "    =\n",
    "    \\left( (x^\\beta \\, f_i)(p) : x^\\beta \\in \\sigma_i \\right)\n",
    "$$\n",
    "\n",
    "If $p$ is a solution of the system, then the vector $(p)^\\Sigma$ belongs to the left kernel of the matrix."
   ]
  },
  {
   "cell_type": "code",
   "execution_count": null,
   "id": "28cf7db4",
   "metadata": {
    "scrolled": true,
    "slideshow": {
     "slide_type": "-"
    }
   },
   "outputs": [],
   "source": [
    "ev = (p,Σ) -> map(mon -> subs(mon,(x,y) => (p)), Σ)'\n",
    "\n",
    "display(F); display(reduce(vcat,[f[mod(i,3)+1].*σ[i] for i=1:2])')\n",
    "\n",
    "display(\n",
    "    ev((1,1),Σ)*MacF\n",
    ")\n",
    "display(\n",
    "    ev((2,0),Σ)*MacF\n",
    ")"
   ]
  },
  {
   "cell_type": "markdown",
   "id": "67357f40",
   "metadata": {
    "slideshow": {
     "slide_type": "subslide"
    }
   },
   "source": [
    "## Computing multiplication map of $f_0$ in $\\langle f_1,\\dots,f_r \\rangle$\n",
    "\n",
    "Let $B$ be a monomial basis of $R$. To compute the multiplication map of $f_0$ in\n",
    "$R$, we need to rewrite any polynomial in\n",
    "\n",
    "$$\\mathrm{span}_{\\mathbb C}(x^\\beta \\, f_0 : x^\\beta \\in B)$$ \n",
    "\n",
    "as a linear combination of polynomials involing the monomials in $B$ and polynomials in $I$.\n",
    "\n",
    "We can use again a Macaulay matrix for this. We need to compute a Schur complement."
   ]
  },
  {
   "cell_type": "code",
   "execution_count": null,
   "id": "dee8d967",
   "metadata": {
    "scrolled": true,
    "slideshow": {
     "slide_type": "fragment"
    }
   },
   "outputs": [],
   "source": [
    "f₀ = x+2*y+1\n",
    "B = [x*y, x, y, 1]\n",
    "Macf0 = EigenvalueSolver.getRes([f₀],Σ,[B],[x, y])\n",
    " \n",
    "# print - ignore\n",
    "pl= vcat(transpose(vcat([(…)],reduce(vcat,[f[mod(i,3)+1].*σ[i] for i=1:2]),[(⋮)],f[1].*B)),hcat(Σ,round.(Int, MacF),([(⋮) for i =1:10]),round.(Int, Macf0))); display(vcat(pl[1:7,:], ([(…) for i =1:12])' , pl[8:end,:]))"
   ]
  },
  {
   "cell_type": "code",
   "execution_count": null,
   "id": "ffb63926",
   "metadata": {
    "scrolled": true,
    "slideshow": {
     "slide_type": "subslide"
    }
   },
   "outputs": [],
   "source": [
    "f₀ = x+2*y+1\n",
    "B = [x*y, x, y, 1]\n",
    "Macf0 = EigenvalueSolver.getRes([f₀],Σ,[B],[x, y])\n",
    "\n",
    "# print - ignore\n",
    "pl= vcat(transpose(vcat([(…)],reduce(vcat,[f[mod(i,3)+1].*σ[i] for i=1:2]),[(⋮)],f[1].*B)),hcat(Σ,round.(Int, MacF),([(⋮) for i =1:10]),round.(Int, Macf0))); display(vcat(pl[1:7,:], ([(…) for i =1:12])' , pl[8:end,:]))"
   ]
  },
  {
   "cell_type": "markdown",
   "id": "c277f60f",
   "metadata": {
    "slideshow": {
     "slide_type": "skip"
    }
   },
   "source": [
    "We split our Macaulay matrix in four parts. \n",
    " - We split the columns in two groups, \n",
    "$$\\{(x^\\beta,f_i) : x^\\beta \\in \\sigma_i\\}_{i > 0} \\text{ and } \\{(x^\\beta, f_0) : x^\\beta \\in B\\}$$\n",
    " - We split the rows in the monomials in $\\Sigma \\setminus B$ and $\\sigma_0$.\n",
    "\n",
    "$$\n",
    "\\left[ \n",
    "\\begin{array}{c | c}\n",
    "M_{1,1} & M_{1,2} \\\\ \n",
    "M_{2,1} & M_{2,2}\n",
    "\\end{array}\n",
    "\\right]\n",
    "$$\n",
    "\n",
    "If $B$ is a monomial basis of $R$ the size of $M_{2,2}$ is $\\prod_{i >0} \\mathrm{deg}(f_i)$, i.e., the Bézout bound."
   ]
  },
  {
   "cell_type": "markdown",
   "id": "7068836f",
   "metadata": {
    "slideshow": {
     "slide_type": "skip"
    }
   },
   "source": [
    "If $M_{1,1}$ invertible, the Schur complement is the multiplication map of $f_0$, $M_{f_0}$, in $R$.\n",
    "\n",
    "$$\n",
    "\\left[ \n",
    "\\begin{array}{c | c}\n",
    "M_{1,1} & M_{1,2} \\\\ \n",
    "M_{2,1} & M_{2,2}\n",
    "\\end{array}\n",
    "\\right]\n",
    "\\, \n",
    "\\left[ \n",
    "\\begin{array}{c | c}\n",
    "Id & - M_{1,1}^{-1} \\, M_{1,2} \\\\ \n",
    "0 & Id\n",
    "\\end{array}\n",
    "\\right]\n",
    "=\n",
    "\\left[\n",
    "\\begin{array}{c | c}\n",
    "M_{1,1} & 0 \\\\\n",
    "M_{2,1} & M_{2,2} - M_{2,1} \\, M_{1,1}^{-1} \\, M_{1,2}\n",
    "\\end{array}\n",
    "\\right]\n",
    "$$"
   ]
  },
  {
   "cell_type": "code",
   "execution_count": null,
   "id": "57b4c271",
   "metadata": {
    "scrolled": false,
    "slideshow": {
     "slide_type": "-"
    }
   },
   "outputs": [],
   "source": [
    "schurCompl_f0 = Macf0[end-3:end,:] - MacF[end-3:end,:]*inv(MacF[1:6,:])*Macf0[1:6,:]\n",
    "\n",
    "# print - ignore\n",
    "pl= vcat(transpose(vcat([(…)],reduce(vcat,[f[mod(i,3)+1].*σ[i] for i=1:2]),[(⋮)],f[1].*B)),hcat(Σ,(MacF),([(⋮) for i =1:10]),[zero(rand(6,4));round.(schurCompl_f0, digits=3)])); display(vcat(pl[1:7,:], ([(…) for i =1:12])' , pl[8:end,:]))"
   ]
  },
  {
   "cell_type": "markdown",
   "id": "3f28b790",
   "metadata": {
    "slideshow": {
     "slide_type": "subslide"
    }
   },
   "source": [
    " - The left eigenvectors of the multiplication map correspond to evaluation at the solutions."
   ]
  },
  {
   "cell_type": "code",
   "execution_count": null,
   "id": "aca85985",
   "metadata": {
    "scrolled": true,
    "slideshow": {
     "slide_type": "-"
    }
   },
   "outputs": [],
   "source": [
    "eigv = eigen(transpose(schurCompl_f0))\n",
    "\n",
    "println(\"Eigenvalues\")\n",
    "display(eigv.values)\n",
    "println(\"\\nEigenvectors\")\n",
    "display(hcat(B,round.(eigv.vectors.*transpose(inv.(eigv.vectors[4,:])),digits=3)))"
   ]
  },
  {
   "cell_type": "code",
   "execution_count": null,
   "id": "66cb48e0",
   "metadata": {
    "scrolled": true,
    "slideshow": {
     "slide_type": "-"
    }
   },
   "outputs": [],
   "source": [
    "F[1]((x,y)=>(2,0)), F[2]((x,y)=>(2,0))"
   ]
  },
  {
   "cell_type": "markdown",
   "id": "4fd7e7ac",
   "metadata": {
    "slideshow": {
     "slide_type": "subslide"
    }
   },
   "source": [
    "- We can also solve the system using the eigenvalues. We consider a different $f_0$ and repeat the computation"
   ]
  },
  {
   "cell_type": "code",
   "execution_count": null,
   "id": "2b712e56",
   "metadata": {
    "scrolled": true,
    "slideshow": {
     "slide_type": "-"
    }
   },
   "outputs": [],
   "source": [
    "h₀ = 3*x-y-2\n",
    "\n",
    "Mach0 = EigenvalueSolver.getRes([h₀],Σ,[B],[x, y])\n",
    "\n",
    "schurCompl_h0 = Mach0[end-3:end,:] - MacF[end-3:end,:]*inv(MacF[1:6,:])*Mach0[1:6,:]"
   ]
  },
  {
   "cell_type": "markdown",
   "id": "ed531193",
   "metadata": {
    "slideshow": {
     "slide_type": "fragment"
    }
   },
   "source": [
    "- As we want to match the eigenvalues corresponding to the same solutions, we reuse the eigenvectors."
   ]
  },
  {
   "cell_type": "code",
   "execution_count": null,
   "id": "7035146f",
   "metadata": {
    "scrolled": true,
    "slideshow": {
     "slide_type": "-"
    }
   },
   "outputs": [],
   "source": [
    "matrixVsEigen = transpose(schurCompl_h0)*eigv.vectors\n",
    "\n",
    "newEigenvalues = [(j -> matrixVsEigen[j,i]/eigv.vectors[j,i])(\n",
    "        findfirst((el -> norm(el) > 1e-6),eigv.vectors[:,i])) for i=1:4]"
   ]
  },
  {
   "cell_type": "markdown",
   "id": "1df45d8b",
   "metadata": {
    "slideshow": {
     "slide_type": "subslide"
    }
   },
   "source": [
    "- Now, we just need to solve a linear system."
   ]
  },
  {
   "cell_type": "code",
   "execution_count": null,
   "id": "60e9a398",
   "metadata": {
    "scrolled": true,
    "slideshow": {
     "slide_type": "-"
    }
   },
   "outputs": [],
   "source": [
    "sols = [1 2; 3 -1]^(-1)*(transpose(hcat(eigv.values, newEigenvalues)) .- [1,-2])\n",
    "\n",
    "println(\"$(length(sols[1,:])) solutions\")\n",
    "display(hcat([x;y],sols))\n",
    "for i=1:4\n",
    "    println(\"Relative error: \", norm([F[j]((x,y) => sols[:,i]) for j=1:2])/norm(sols[:,i]))\n",
    "end"
   ]
  },
  {
   "cell_type": "markdown",
   "id": "f54adc70",
   "metadata": {
    "slideshow": {
     "slide_type": "subslide"
    }
   },
   "source": [
    "### Why don't we consider the multiplication maps wrt coordinates directly?\n",
    "\n",
    "I.e., why we don't consider $f_0 = x_i$? Numerically bad!"
   ]
  },
  {
   "cell_type": "code",
   "execution_count": null,
   "id": "4f48332d",
   "metadata": {
    "scrolled": true,
    "slideshow": {
     "slide_type": "-"
    }
   },
   "outputs": [],
   "source": [
    "Macx = EigenvalueSolver.getRes([x],Σ,[B],[x, y])\n",
    "\n",
    "schurCompl_x = Macx[end-3:end,:] - MacF[end-3:end,:]*inv(MacF[1:6,:])*Macx[1:6,:]\n",
    "\n",
    "eigv_x = eigen(transpose(schurCompl_x))\n",
    "println(\"Eigenvalues\")\n",
    "display(eigv_x.values)\n",
    "println(\"\\nEigenvectors\")\n",
    "display(round.(eigv_x.vectors.*(transpose(inv.(eigv_x.vectors[4,:]))),digits=3))"
   ]
  },
  {
   "cell_type": "markdown",
   "id": "d9eedd04",
   "metadata": {
    "slideshow": {
     "slide_type": "slide"
    }
   },
   "source": [
    "## Choosing basis for quotient ring\n",
    "\n",
    "In the previous example, we assumed we know:\n",
    "- Which polynomials in $I$ to consider.\n",
    "- A monomial basis for $R$."
   ]
  },
  {
   "cell_type": "markdown",
   "id": "a84aed8e",
   "metadata": {
    "slideshow": {
     "slide_type": "fragment"
    }
   },
   "source": [
    "#### What can we do in practice?\n",
    "\n",
    "We choose a big enough degree $d$ and, for each $i$, we consider all monomials of degree at most  $d - d_i$, where $d_i := \\deg(f_i)$, that is,\n",
    "$$\\sigma_i = \\{ x^\\beta \\in S_{\\leq d - d_i} \\}$$\n",
    "\n",
    "- Under good assumptions, $\\mathbb C[x_1,\\dots,x_n] / \\langle f_1,\\dots,f_r \\rangle$ is isomorphic to $\\mathrm{cokernel}(\\mathrm{Sylv_{f_1,\\dots,f_r}^{\\sigma_1,\\dots,\\sigma_r; \\Sigma}})$. \n",
    "\n",
    " - In particular, $\\mathrm{rank}(\\mathrm{coker}(\\mathrm{Sylv_{f_1,\\dots,f_r}^{\\sigma_1,\\dots,\\sigma_r; \\Sigma}})) = \\delta^+$\n",
    "\n",
    "- Moreover, the set $\\sigma_0$ will contain a monomial basis $B$ for $R$."
   ]
  },
  {
   "cell_type": "markdown",
   "id": "19954172",
   "metadata": {
    "slideshow": {
     "slide_type": "subslide"
    }
   },
   "source": [
    "#### How to recover the monomial basis and the multiplication maps?\n",
    "\n",
    "- We want to decide which monomials in $\\sigma_0$ form a numerically good basis for $R$.\n",
    "\n",
    "- For that, we need $\\delta^+$ monomials in $\\sigma_0$ which are linear independent modulo\n",
    "$\\mathrm{im}(\\mathrm{Sylv_{f_1,\\dots,f_r}^{\\sigma_1,\\dots,\\sigma_r; \\Sigma}}).$\n",
    "\n",
    "- To test, we compute the image $\\mathrm{Sylv}_{1}^{\\sigma_0; \\Sigma}$ mod $\\mathrm{coker}(\\mathrm{Sylv_{f_1,\\dots,f_r}^{\\sigma_1,\\dots,\\sigma_r; \\Sigma}})$.\n",
    "\n",
    "- This can be done using the left kernel of the Macaulay $\\mathrm{Mac}({f_1,\\dots,f_r};{\\sigma_1,\\dots,\\sigma_r})$."
   ]
  },
  {
   "cell_type": "markdown",
   "id": "cf5c89b2",
   "metadata": {
    "slideshow": {
     "slide_type": "fragment"
    }
   },
   "source": [
    "> Via the Schur complement, we have been doing this implicitly. $$ \\small\n",
    "\\left[ \n",
    "\\begin{array}{c | c}\n",
    "Id & - M_{2,1} \\, M_{1,1}^{-1}\n",
    "\\end{array}\n",
    "\\right] \n",
    "\\,\n",
    "\\left[ \n",
    "\\begin{array}{c | c}\n",
    "M_{1,1} & M_{1,2} \\\\ \n",
    "M_{2,1} & M_{2,2}\n",
    "\\end{array}\n",
    "\\right]\n",
    "=\n",
    "\\left[\n",
    "\\begin{array}{c | c}\n",
    "0 &  M_{2,2} - M_{2,1} \\, M_{1,1}^{-1} \\, M_{1,2}\n",
    "\\end{array}\n",
    "\\right]\n",
    "$$\n",
    "\n",
    "- Numerically, we do so by computing the singular value decomposition of the matrix."
   ]
  },
  {
   "cell_type": "code",
   "execution_count": null,
   "id": "e3591972",
   "metadata": {
    "scrolled": true,
    "slideshow": {
     "slide_type": "subslide"
    }
   },
   "outputs": [],
   "source": [
    "Σ2 = [y^2, y*x, x^2, x, y, 1]\n",
    "σ2 = [monomials([x,y],0), monomials([x,y],0:1)]\n",
    "\n",
    "F2 = [y^2-4*x^2-2*y-8*x-3, -1e-4*x+y+1]\n",
    "\n",
    "M2 = EigenvalueSolver.getRes(F2,Σ2,σ2,[x,y])\n",
    "\n",
    "# print - ignore\n",
    "println(\"New system F = (f₁,f₂)\");display(F2);display(vcat(transpose(vcat([(…)],reduce(vcat,[f[mod(i,3)+1].*σ2[i] for i=1:2]))),hcat(Σ2,round.(M2,digits=10))))"
   ]
  },
  {
   "cell_type": "code",
   "execution_count": null,
   "id": "dac16306",
   "metadata": {
    "scrolled": true,
    "slideshow": {
     "slide_type": "fragment"
    }
   },
   "outputs": [],
   "source": [
    "function getCokernel(MM)\n",
    "    svdobj = svd(transpose(MM), full = true)\n",
    "    firstzerosingval = length(svdobj.S) + 1\n",
    "    firstzeroSingval = findfirst(sv -> sv < 1e-6 * svdobj.S[1], svdobj.S)\n",
    "    if !isnothing(firstzeroSingval); rk = firstzerosingval - 1; else; rk = length(svdobj.S); end\n",
    "    return transpose(svdobj.V[:, rk+1:end])\n",
    "end\n",
    "\n",
    "cokerN = getCokernel(M2)"
   ]
  },
  {
   "cell_type": "markdown",
   "id": "8a17b48d",
   "metadata": {
    "slideshow": {
     "slide_type": "subslide"
    }
   },
   "source": [
    " - From this, we can see that in this example we shouldn't choose $[y,1]$ as our basis for $\\mathbb C[x,y] / \\langle f_1,f_2 \\rangle$."
   ]
  },
  {
   "cell_type": "code",
   "execution_count": null,
   "id": "f9fe7bc2",
   "metadata": {
    "scrolled": false,
    "slideshow": {
     "slide_type": "-"
    }
   },
   "outputs": [],
   "source": [
    "M2_1 = EigenvalueSolver.getRes([1],Σ2, [monomials([x,y],0:1)],[x,y])\n",
    "\n",
    "N_1 = cokerN*M2_1\n",
    "\n",
    "display(F2);display(vcat(monomials([x,y],0:1)', N_1))"
   ]
  },
  {
   "cell_type": "markdown",
   "id": "294709ad",
   "metadata": {
    "slideshow": {
     "slide_type": "fragment"
    }
   },
   "source": [
    "- In this example, we can choose $B = [x,1]$\n",
    "- In practice, we use QR with optimal pivoting to choose the set B."
   ]
  },
  {
   "cell_type": "markdown",
   "id": "c9281d49",
   "metadata": {
    "slideshow": {
     "slide_type": "subslide"
    }
   },
   "source": [
    " - For each $f_0 \\in R_{\\leq d_0}$, we have a map $\\mathcal N_{f_0} := \\kappa \\circ \\mathrm Sylv_{f_0}^B$, where\n",
    " \n",
    " $$\n",
    "\\bigoplus_{i \\geq 1} S_{\\leq d - d_i}\n",
    "\\xrightarrow{\\mathrm{Sylv}_{f_1,\\dots,f_r}^{\\sigma_1,\\dots,\\sigma_r}}\n",
    "S_{\\leq d}\n",
    "\\xrightarrow{\\kappa}\n",
    "\\mathrm{coker}(\\mathrm{Sylv}_{f_1,\\dots,f_r}^{\\sigma_1,\\dots,\\sigma_r})\n",
    "\\rightarrow 0\n",
    " $$\n",
    " \n",
    " We represent $\\mathcal N_{f_0}$ with a matrix\n",
    " \n",
    " $$N_{f_0} := \\mathrm{leftKernel}(\\mathrm{Mac}({f_1,\\dots,f_r};{\\sigma_1,\\dots,\\sigma_r})) \\cdot\n",
    " \\mathrm{Mac}(f_0;B)\n",
    " $$"
   ]
  },
  {
   "cell_type": "markdown",
   "id": "9144189c",
   "metadata": {
    "slideshow": {
     "slide_type": "fragment"
    }
   },
   "source": [
    " - Morally, $\\mathcal N_{f_0}$ represents a multiplication map of $f_0$ in two different basis of $R$:\n",
    " \n",
    "  - the monomials $B$ and\n",
    "  - using the cokernel of Sylvester map $\\mathrm{Sylv}_{f_1,\\dots,f_r}^{\\sigma_1,\\dots,\\sigma_r}$. \n",
    "  \n",
    " - To recover the solutions from eigenvectors, we need to write our multiplication maps in the same basis.\n",
    "  - We do this by composing $\\mathcal N_{f_0}$ with the inverse of the map $\\mathcal N_{1}$."
   ]
  },
  {
   "cell_type": "code",
   "execution_count": null,
   "id": "d710d88c",
   "metadata": {
    "scrolled": true,
    "slideshow": {
     "slide_type": "fragment"
    }
   },
   "outputs": [],
   "source": [
    "B = [x 1]\n",
    "\n",
    "Nf = (f0 -> (cokerN*EigenvalueSolver.getRes([f0],Σ2,[B],[x,y])))\n",
    "\n",
    "eigv2 = eigen(Nf(x+y+1) * Nf(1)^(-1))\n",
    "\n",
    "vcat(([\"Eigenvalues\" \"Evaluations\"]),hcat(eigv2.values, [((x+y+1)((x,y) => (-2,-1))), ((x+y+1)((x,y) => (0,-1)))]))"
   ]
  },
  {
   "cell_type": "markdown",
   "id": "b59a8c90",
   "metadata": {
    "slideshow": {
     "slide_type": "fragment"
    }
   },
   "source": [
    " - We can do the same for rational functions $\\rightarrow$ the multiplication map of $\\frac{f_0}{h_0}$ is $\\mathcal N_{f_0} \\circ (\\mathcal N_{h_0})^{-1}$."
   ]
  },
  {
   "cell_type": "markdown",
   "id": "f1669854",
   "metadata": {
    "slideshow": {
     "slide_type": "slide"
    }
   },
   "source": [
    "## Solutions at infinity\n",
    "\n",
    "In some circunstances, eigenvalue methods lead to big numerical errors.\n",
    " \n",
    " - Consider the system $\\{x^2-4\\,y^2-2\\,x-8\\,y-3 ,-x + 2\\, (\\varepsilon+1) \\, y-1 \\}$.\n",
    "   - When $\\varepsilon = 0$, it has only one solution: $(-1,0)$ $$ $$\n",
    "   - When $\\varepsilon \\neq 0$, it has two solutions: $(-1,0), \\left(\\frac{3 \\, \\varepsilon + 4}{\\varepsilon}, \\frac{2}{\\varepsilon} \\right)$"
   ]
  },
  {
   "cell_type": "code",
   "execution_count": null,
   "id": "9cc0b48b",
   "metadata": {
    "scrolled": true,
    "slideshow": {
     "slide_type": "-"
    }
   },
   "outputs": [],
   "source": [
    "@polyvar ε\n",
    "\n",
    "F3eps = [x^2-4*y^2-2*x-8*y-3, -x+2*(ε+1)*y-1.]\n",
    "\n",
    "println(\"We solve the system \\t $F3eps \\nby replacing x by 2*(ε+1)*y-1\\n\")\n",
    "println(\n",
    "    \n",
    "    subs(x^2-4*y^2-2*x-8*y-3, x => 2*(ε+1)*y-1)\n",
    ")\n",
    "println(\"\\nWhen ε = 0, the system has only one solution\")"
   ]
  },
  {
   "cell_type": "markdown",
   "id": "a96c8e2e",
   "metadata": {
    "slideshow": {
     "slide_type": "subslide"
    }
   },
   "source": [
    "## Solutions at infinity\n",
    "\n",
    "In some circunstances, eigenvalue methods lead to big numerical errors.\n",
    " \n",
    " - Consider the system $\\{x^2-4\\,y^2-2\\,x-8\\,y-3 ,-x + 2\\, (\\varepsilon+1) \\, y-1 \\}$.\n",
    "   - When $\\varepsilon = 0$, it has only one solution: $(-1,0)$ $$ $$\n",
    "   - When $\\varepsilon \\neq 0$, it has two solutions: $(-1,0), \\left(\\frac{3 \\, \\varepsilon + 4}{\\varepsilon}, \\frac{2}{\\varepsilon} \\right)$ $$ $$\n",
    "   - However, when $\\varepsilon \\rightarrow 0$, the second solutions goes to $(\\infty,\\infty)$. $$ $$\n",
    "   - **Big issue**: regardless of algorithm, some eigenvals of the mult. maps are huge ($f_0(\\infty,\\infty)$)!\n",
    "    - Somewhere, we will invert a nearly singular matrix.\n",
    "    - Can affect the precision of every computed solution, not only the sols going to infinity."
   ]
  },
  {
   "cell_type": "code",
   "execution_count": null,
   "id": "386c54fa",
   "metadata": {
    "scrolled": true,
    "slideshow": {
     "slide_type": "fragment"
    }
   },
   "outputs": [],
   "source": [
    "Σ3 = monomials([x,y],0:2); σ3 = [monomials([x,y],0), monomials([x,y],0:1)]\n",
    "\n",
    "err = 1.e-5\n",
    "F3 = subs(F3eps,ε => err)\n",
    "\n",
    "M3 = EigenvalueSolver.getRes(F3,Σ3,σ3,[x,y])\n",
    "\n",
    "cokerM3 = getCokernel(M3)\n",
    "\n",
    "M31 = EigenvalueSolver.getRes([1],Σ3,[monomials([x,y],0:1)],[x,y])\n",
    "N3_1 = cokerM3*M31\n",
    "\n",
    "f0 = rand(3)'*monomials([x,y],0:1);\n",
    "M3f0 = EigenvalueSolver.getRes([f0],Σ3,[monomials([x,y],0:1)],[x,y])\n",
    "N3_f0 = cokerM3*M3f0\n",
    "\n",
    "# print - ignore\n",
    "display(F3); println(\"We can not choose a monomial basis\"); display(vcat(transpose([x;y;1]), N3_1)); println(\"However, the picture is different if we multiply by random f₀\"); display(vcat((f[1].*[x,y,1]'), N3_f0)); "
   ]
  },
  {
   "cell_type": "markdown",
   "id": "b3ae6fd0",
   "metadata": {
    "slideshow": {
     "slide_type": "subslide"
    }
   },
   "source": [
    "#### This problem force us to change the strategy\n",
    "\n",
    "- We want to get coordinates to write solutions at infinity  $$ $$\n",
    "\n",
    "- Our problem is that the solution space $\\mathbb C^n$ is not compact.  $$ $$\n",
    "\n",
    "- We will work in a **bigger solutions space $\\mathbb P(\\mathbb C^n)$**, which is **compact**.  $$ $$\n",
    "\n",
    "- Algebraically, we need a system of **homogeneous** equations such that, restricted to $\\mathbb C^n$, they define the same ideal than our system. "
   ]
  },
  {
   "cell_type": "markdown",
   "id": "c035be80",
   "metadata": {
    "slideshow": {
     "slide_type": "subslide"
    }
   },
   "source": [
    "- We will consider the homogenization of our input equations: \n",
    "\n",
    "  - Given $f \\in \\mathbb C[x_1,\\dots,x_n]$ of degree $d$, its homogenization is \n",
    "  \n",
    "  $$f^h := x_0^d \\cdot f\\left(\\frac{x_1}{x_0},\\dots,\\frac{x_1}{x_0}\\right) \\in \\mathbb C[x_0,x_1,\\dots,x_n]$$ \n",
    "     > $$f := x_1^2 + x_2 + 1 \\rightarrow f^h = x_1^2 + x_0 \\, x_2 + x_0^2$$\n",
    "  \n",
    "  - Given a system $F = (f_1,\\dots,f_r) \\in \\mathbb C[x_1, \\dots, x_n]^r$, we will solve \n",
    "  \n",
    "  $$F^h = (f^h_1,\\dots,f^h_r) \\in \\mathbb C[x_0,x_1, \\dots, x_n]^r$$"
   ]
  },
  {
   "cell_type": "markdown",
   "id": "b3a67f3a",
   "metadata": {
    "slideshow": {
     "slide_type": "fragment"
    }
   },
   "source": [
    "  - We can recover every original solution: for every $(1 : p_1 : \\dots : p_n) \\in \\mathbb C^n \\subset \\mathbb P(\\mathbb C^n)$, \n",
    "  \n",
    "  $$F(p_1,\\dots,p_n) = F^h(1 : p_1 : \\dots : p_n)$$. \n",
    " \n",
    "  - Solutions at infinity of $F$ $\\subseteq$ solutions of $F^h$ of the form $(0 : p_1 : \\dots : p_n) \\in \\mathbb P(\\mathbb C^n)$."
   ]
  },
  {
   "cell_type": "markdown",
   "id": "5d560fcc",
   "metadata": {
    "slideshow": {
     "slide_type": "subslide"
    }
   },
   "source": [
    "- **Extremely important:** Homogenizing the input equations could lead to a non-zero dimensional system, which kills our strategy (no multiplication maps)."
   ]
  },
  {
   "cell_type": "markdown",
   "id": "7b0ed76d",
   "metadata": {
    "slideshow": {
     "slide_type": "fragment"
    }
   },
   "source": [
    "- In what follows, we will **assume that the solutions of $F^h$ at infinity are finite!**\n",
    "\n",
    " - In this case, we have that for big enough degree $d$,\n",
    " \n",
    " $$\\left(\\mathbb C[x_0,x_1,\\dots,x_n] / \\langle F^h \\rangle\\right)_d = \\mathbb C [\\text{Solutions of }F^h]$$.\n",
    " \n",
    " - Smallest of degree $d$ satisfying this condition $\\rightarrow$ **Castelnuovo-Mumford regularity**. $$ $$\n",
    " - If $F^h$ involves only $n$ equations, geometrically we have a **complete intersection**\n",
    "   - the Castelnuovo-Mumford regularity is $d_{mac} = \\sum_i \\mathrm{degree}(f_i) - n + 1$."
   ]
  },
  {
   "cell_type": "markdown",
   "id": "9ed20d33",
   "metadata": {
    "slideshow": {
     "slide_type": "subslide"
    }
   },
   "source": [
    "#### Going back to our example, we observe that\n",
    " - **Bézout bound**: our homogenized system has exactly two solutions (counting multiplicity):\n",
    "     $$\\begin{array}{c c c}\n",
    " (-1,0) & \\rightarrow & (-1 : 0 : 1) \\\\\n",
    " \\left(\\frac{3 \\, \\varepsilon + 4}{\\varepsilon} , \\frac{2}{\\varepsilon}\\right) & \\rightarrow & (3 \\, \\varepsilon + 4 : 2 : \\varepsilon)\n",
    " \\end{array}$$.\n",
    " \n",
    " - The Macaulay matrix does not change if we homogenize the equations!"
   ]
  },
  {
   "cell_type": "code",
   "execution_count": null,
   "id": "fcb7bc1a",
   "metadata": {
    "scrolled": true,
    "slideshow": {
     "slide_type": "fragment"
    }
   },
   "outputs": [],
   "source": [
    "@polyvar z\n",
    "\n",
    "Σ3hom = monomials([x,y,z],2)\n",
    "σ3hom = [monomials([x,y,z],0), monomials([x,y,z],1)]\n",
    "\n",
    "homog = ((f,v=z) -> (d -> sum(mm -> mm*v^(d - degree(mm)),terms(f)))(maximum(degree.(terms(f)))))\n",
    "\n",
    "err = 1.e-5\n",
    "F3hom = homog.(subs(F3eps,ε => err))\n",
    "\n",
    "M3hom = EigenvalueSolver.getRes(F3hom,Σ3hom,σ3hom,[x,y,z]);\n",
    "\n",
    "cokerM3hom = getCokernel(M3hom)\n",
    "\n",
    "# print - ignore\n",
    "println(\"Macaulay matrix for affine system\"); display(vcat(transpose(vcat([(…)],reduce(vcat,[f[mod(i,3)+1].*σ3[i] for i=1:2]))),hcat(Σ3,(M3))));\n",
    "println(\"Macaulay matrix for homogenization\"); display(vcat(transpose(vcat([(…)],reduce(vcat,[f[mod(i,3)+1].*σ3hom[i] for i=1:2]))),hcat(Σ3hom,(M3hom))));    "
   ]
  },
  {
   "cell_type": "markdown",
   "id": "7f14d9c5",
   "metadata": {
    "slideshow": {
     "slide_type": "subslide"
    }
   },
   "source": [
    " - The matrix $N_{x_0}$ is nearly singular:\n",
    " \n",
    "  - $x_0$ vanishes at the solutions at infinity! $\\implies$ $0$ is eigenvalue\n",
    " \n",
    " - In affine setting, this matrix IS $N_1$ !"
   ]
  },
  {
   "cell_type": "code",
   "execution_count": null,
   "id": "3fad5abb",
   "metadata": {
    "scrolled": true,
    "slideshow": {
     "slide_type": "fragment"
    }
   },
   "outputs": [],
   "source": [
    "N3hom_z = cokerM3hom*(EigenvalueSolver.getRes([z],Σ3hom,[[x,y,z]],[x,y,z]))\n",
    "\n",
    "println(\"Try to construct Matrix Nz ->  rank(Nz) ~ 1\"); display(vcat([x,y,z]', N3hom_z))"
   ]
  },
  {
   "cell_type": "markdown",
   "id": "e813f1e5",
   "metadata": {
    "slideshow": {
     "slide_type": "subslide"
    }
   },
   "source": [
    " - We will compute the multiplication maps for rational functions $\\frac{f_0}{h_0}$ via $N_{f_0} \\cdot N_{h_0}^{-1}$, where $h_0$ does not vanish at the solutions of $F^h$. \n",
    " \n",
    " - If we fix $h_0$ and compute $n+1$ multiplication maps for $\\frac{f^{0}_0}{h_0},\\dots,\\frac{f^{n}_0}{h_0}$, for random linear forms $f^{0}_0,\\dots,f^{n}_0$, we can recover the coordinates of the solutions."
   ]
  },
  {
   "cell_type": "code",
   "execution_count": null,
   "id": "15721454",
   "metadata": {
    "scrolled": true,
    "slideshow": {
     "slide_type": "fragment"
    }
   },
   "outputs": [],
   "source": [
    "fh0 = rand(3)'*monomials([x,y,z],1);\n",
    "h0 = rand(3)'*monomials([x,y,z],1);\n",
    "\n",
    "M3homf0 = EigenvalueSolver.getRes([fh0],Σ3hom,[monomials([x,y,z],1)],[x,y,z])\n",
    "M3homh0 = EigenvalueSolver.getRes([h0],Σ3hom,[monomials([x,y,z],1)],[x,y,z])\n",
    "\n",
    "multf0divg0 = (cokerM3hom*M3homf0)[:,[1,2]]*(cokerM3hom*M3homh0)[:,[1,2]]^(-1)\n",
    "\n",
    "vcat([\"Eigenvals M_{f₀/h₀}\" \"Evals f₀/h₀ at sols\"],hcat(sort(eigen(multf0divg0).values), sort([(fh0/h0)((x,y,z) => sol) for sol in [((3*err+4), 2, err), (-1,0,1)] ])))"
   ]
  },
  {
   "cell_type": "markdown",
   "id": "97cddaae",
   "metadata": {
    "slideshow": {
     "slide_type": "slide"
    }
   },
   "source": [
    "- The function **EigenvalueSolver.solve_CI_dense()** implements this approach.\n",
    "\n",
    "- Using **EigenvalueSolver.get_residual()**, we can measure how good are our approximations by computing the relative backward error,\n",
    "\n",
    "  >Relative backward error of $\\sum_\\alpha c_\\alpha \\, x^\\alpha$ at $p \\in \\mathbb C^n$ is $$ $$\n",
    "  >$$\\frac{|\\sum_\\alpha c_\\alpha p^\\alpha|}{1 + \\sum_\\alpha |c_\\alpha p^\\alpha|}$$"
   ]
  },
  {
   "cell_type": "code",
   "execution_count": null,
   "id": "507877a5",
   "metadata": {
    "scrolled": false,
    "slideshow": {
     "slide_type": "-"
    }
   },
   "outputs": [],
   "source": [
    "err = 1.e-15\n",
    "F3 = subs(F3eps,ε => err)\n",
    "\n",
    "@time sol = EigenvalueSolver.solve_CI_dense(F3,[x,y]; DBD = false, verbose = true);\n",
    "\n",
    "BWEs = EigenvalueSolver.get_residual(F3,sol,[x,y]) \n",
    "BWE = maximum(BWEs)"
   ]
  },
  {
   "cell_type": "markdown",
   "id": "519a5d49",
   "metadata": {
    "slideshow": {
     "slide_type": "slide"
    }
   },
   "source": [
    "### Solving a random system\n",
    "\n",
    "- Let's now solve a random system given by two plane curves of degree $30$.\n",
    "- We can construct it using the function **EigenvalueSolver.getRandomSystem_dense()**.\n",
    "- By Bézout's theorem, the number of solutions of the system is $30^2 = 900$."
   ]
  },
  {
   "cell_type": "code",
   "execution_count": null,
   "id": "29b30116",
   "metadata": {
    "scrolled": true,
    "slideshow": {
     "slide_type": "fragment"
    }
   },
   "outputs": [],
   "source": [
    "planeCurves = EigenvalueSolver.getRandomSystem_dense([x,y],[30,30])\n",
    "\n",
    "@time sol = EigenvalueSolver.solve_CI_dense(planeCurves,[x,y]; DBD = false, verbose = true);\n",
    "\n",
    "println(\"\\nMaximum relative backward error: \", \n",
    "maximum(EigenvalueSolver.get_residual(planeCurves,sol,[x,y])))"
   ]
  },
  {
   "cell_type": "markdown",
   "id": "a15e8dc7",
   "metadata": {
    "slideshow": {
     "slide_type": "slide"
    }
   },
   "source": [
    "### Overdetermined systems\n",
    "\n",
    "- We say that a system $(f_1,\\dots,f_r)$ is overdetermined when $r > n$. $$ $$\n",
    "\n",
    "- General overdetermined systems have no solutions, $$ $$\n",
    "\n",
    "- In practice, we deal with specific cases where they do."
   ]
  },
  {
   "cell_type": "markdown",
   "id": "6d329888",
   "metadata": {
    "slideshow": {
     "slide_type": "fragment"
    }
   },
   "source": [
    "- **Important**: The eigenvalue method works faster for overdetermined systems! $$ $$\n",
    " - Castelnuovo-Mumford regularity tends to decrease when we add new equations $$ $$\n",
    " - Hence, we solve our system using smaller Macaulay matrices."
   ]
  },
  {
   "cell_type": "markdown",
   "id": "28b33b0a",
   "metadata": {
    "slideshow": {
     "slide_type": "subslide"
    }
   },
   "source": [
    "To illustrate this, we construct an overdetermined system by fixing the solutions and the degree of the equations.\n",
    "\n",
    "We use the function **EigenvalueSolver.getVanishingPolynomials()**."
   ]
  },
  {
   "cell_type": "code",
   "execution_count": null,
   "id": "a1d74150",
   "metadata": {
    "scrolled": true,
    "slideshow": {
     "slide_type": "-"
    }
   },
   "outputs": [],
   "source": [
    "mons = monomials([x,y],0:5)\n",
    "pts = [randn(Float64,2) for i = 1:10]\n",
    " \n",
    "sysOD = EigenvalueSolver.getVanishingPolynomials(pts, mons, [x,y];augm_prec = false)[1];\n",
    "\n",
    "sysOD[1]"
   ]
  },
  {
   "cell_type": "markdown",
   "id": "201726b1",
   "metadata": {
    "slideshow": {
     "slide_type": "subslide"
    }
   },
   "source": [
    "#### First we solve a subsystem\n",
    "\n",
    "- We take only three equations and solve the system.\n",
    "- It has 10 solutions, but we need to consider the Macaulay matrix at degree 7"
   ]
  },
  {
   "cell_type": "code",
   "execution_count": null,
   "id": "29b9053d",
   "metadata": {
    "scrolled": false,
    "slideshow": {
     "slide_type": "-"
    }
   },
   "outputs": [],
   "source": [
    "sol = EigenvalueSolver.solve_OD_dense(sysOD[1:3],[x,y];verbose=true)\n",
    "\n",
    "println(\"\\nNumber of solutions: \",length(sol))\n",
    "println(\"\\nMaximum relative backward error: \", maximum(EigenvalueSolver.get_residual(sysOD[1:3],sol,[x,y])))"
   ]
  },
  {
   "cell_type": "markdown",
   "id": "7db23db6",
   "metadata": {
    "slideshow": {
     "slide_type": "subslide"
    }
   },
   "source": [
    "#### Now we solve the full system\n",
    "\n",
    "- We only need to consider the Macaulay matrix at degree 5 !"
   ]
  },
  {
   "cell_type": "code",
   "execution_count": null,
   "id": "10792c89",
   "metadata": {
    "scrolled": true,
    "slideshow": {
     "slide_type": "-"
    }
   },
   "outputs": [],
   "source": [
    "@time sol = EigenvalueSolver.solve_OD_dense(sysOD,[x,y];verbose=true)\n",
    "\n",
    "println(\"\\nNumber of solutions: \",length(sol))\n",
    "println(\"\\nMaximum relative backward error: \", \n",
    "maximum(EigenvalueSolver.get_residual(sysOD,sol,[x,y])))"
   ]
  },
  {
   "cell_type": "markdown",
   "id": "c03e134f",
   "metadata": {
    "slideshow": {
     "slide_type": "skip"
    }
   },
   "source": [
    "### Further considerations\n",
    "\n",
    "- To speed up computations, it is possible to compute $\\mathrm{coker}(\\mathrm{Sylv}_{d})$ using $\\mathrm{coker}(\\mathrm{Sylv}_{d-1})$. This approach leads to an iterative *degree by degree* algorithm.\n",
    "\n",
    "  - If we run **solve_CI_dense()** with the optional parameter *DBD = true*, it will follow this strategy. $$ $$\n",
    "\n",
    "- We have a criterion to check at which degree we can solve the system by recovering (almost)  multiplication maps."
   ]
  },
  {
   "cell_type": "code",
   "execution_count": null,
   "id": "98c95d00",
   "metadata": {
    "scrolled": true,
    "slideshow": {
     "slide_type": "skip"
    }
   },
   "outputs": [],
   "source": [
    "sol = EigenvalueSolver.solve_CI_dense(sysOD[1:2],[x,y];verbose=true,DBD=true);"
   ]
  },
  {
   "cell_type": "markdown",
   "id": "15fe1057",
   "metadata": {
    "slideshow": {
     "slide_type": "slide"
    }
   },
   "source": [
    "### When we can use this method?\n",
    "\n",
    "- The Macaulay matrix of the systems before and after homogenization are exactly the same."
   ]
  },
  {
   "cell_type": "markdown",
   "id": "3c6b9cb1",
   "metadata": {
    "slideshow": {
     "slide_type": "fragment"
    }
   },
   "source": [
    "- This tell us that our method works if and only if the homogenization of our input system has a finite number of solutions!"
   ]
  },
  {
   "cell_type": "markdown",
   "id": "ed7cc933",
   "metadata": {
    "slideshow": {
     "slide_type": "fragment"
    }
   },
   "source": [
    "- This assumption makes sense for dense square systems (Bézout theorem).\n",
    "> We say that a polynomial $f$ is dense if the coefficient of every monomial of degree $\\leq \\deg(f)$ is non-zero."
   ]
  },
  {
   "cell_type": "markdown",
   "id": "0478027a",
   "metadata": {
    "slideshow": {
     "slide_type": "fragment"
    }
   },
   "source": [
    "- However, if the system is sparse, the homogenization most probably won't have finite solutions\n",
    "\\\n",
    "  In this case, the rank of the cokernel of the Macaulay matrix will keep growing! $\\rightarrow$ We won't be able to solve the system."
   ]
  },
  {
   "cell_type": "code",
   "execution_count": null,
   "id": "8fd87f48",
   "metadata": {
    "scrolled": false,
    "slideshow": {
     "slide_type": "subslide"
    }
   },
   "outputs": [],
   "source": [
    "Fsp = rand(3,5)*[x^2, x, y, z, 1]; display(Fsp)\n",
    "\n",
    "@polyvar w\n",
    "FspAtInf = [subs(pols,w => 0) for pols in homog.(Fsp,w)]\n",
    "\n",
    "println(\"Random system at infinity: \\n\", FspAtInf, \"\\n\\n The projective line {[0 : p : q : 0] : (p,q) ∈ P^1} is always solution\\n\\n\")\n",
    "\n",
    "push!(Fsp,x+y+2*z-1.0)\n",
    "for i = 2:10\n",
    "    Σit = monomials([x,y,z],0:i)\n",
    "    σit = [monomials([x,y,z],0:(i-2)) for j=1:3]\n",
    "    push!(σit,monomials([x,y,z],0:(i-1)))\n",
    "    MacIt = EigenvalueSolver.getRes(Fsp,Σit,σit,[x,y,z])\n",
    "    print(\"Dim of coker at degree $i -> \",length(monomials([x,y,z],0:i)) - rank(MacIt[:,1:end - length(monomials([x,y,z],0:i-1))]))\n",
    "    println(\"\\t is N_{f_0} invertble? \", length(monomials([x,y,z],0:i)) == rank(MacIt))\n",
    "end"
   ]
  },
  {
   "cell_type": "markdown",
   "id": "c32d0495",
   "metadata": {
    "collapsed": true,
    "slideshow": {
     "slide_type": "slide"
    }
   },
   "source": [
    "## Solving sparse systems\n",
    "\n",
    "- Until now, we assumed that when we homogenize the system, it has no higher dimensional solutions at infinity.\n",
    "\n",
    "- This assumption makes sense for dense square systems (Bézout theorem).\n",
    "\n",
    "- However, for sparse system, we can not assume this."
   ]
  },
  {
   "cell_type": "markdown",
   "id": "3bc9831a",
   "metadata": {
    "slideshow": {
     "slide_type": "slide"
    }
   },
   "source": [
    "### What is a sparse polynomial system?"
   ]
  },
  {
   "cell_type": "markdown",
   "id": "4266d3cb",
   "metadata": {},
   "source": [
    "- **Newton polytope** of $f =\\sum_{\\alpha} c_\\alpha {\\bf x}^\\alpha$ $\\longrightarrow$ Convex hull of $\\{ \\alpha : c_\\alpha \\neq 0 \\}$."
   ]
  },
  {
   "attachments": {
    "newtonPolytope.png": {
     "image/png": "[encoded data removed]"
    }
   },
   "cell_type": "markdown",
   "id": "c7fa7faf",
   "metadata": {},
   "source": [
    "- **Sparse polynomial** $\\longrightarrow$ Its Newton polytope is ``small''.\n",
    "  $\\newcommand{ingreen}[1]{\\color{green}{#1}}$ $\\newcommand{inblue}[1]{\\color{blue}{#1}}$ $\\newcommand{bm}[1]{{#1}}$\n",
    "  \n",
    "  $$\n",
    "    \\begin{array}[t]{r r}\n",
    "    1 + xy + x^2 y + x^2 y^2 + x^3 y = &\n",
    "    \\begin{array}[t]{l}\n",
    "      \\ingreen{\\bm{1}} + \\bm{0} \\cdot \\inblue{x} + \\bm{0} \\cdot \\inblue{y} + \\bm{0} \\cdot \\inblue{x^2} + \\ingreen{\\bm{x y}} + \\bm{0} \\cdot \\inblue{y^2} + \\\\\n",
    "      \\bm{0} \\cdot \\inblue{x^3} +  \\ingreen{\\bm{x^2 y}} + \\bm{0} \\cdot \\inblue{x y^2}  + \\bm{0} \\cdot \\inblue{y^3} + \\\\\n",
    "      \\bm{0} \\cdot \\inblue{x^4} + \\ingreen{\\bm{x^3 y}}  + \\ingreen{\\bm{x^2 y^2}} + \\bm{0} \\cdot \\inblue{x y^3} + \\bm{0} \\cdot \\inblue{y^4}\n",
    "    \\end{array}\n",
    "    \\end{array}\n",
    "    $$\n",
    "    \n",
    "<div>\n",
    "<img src=\"attachment:newtonPolytope.png\" alt=\"Newton Polytope\" style=\"width: 25%;\"/>\n",
    "</div>\n",
    "\n",
    "- **Unmixed sparse system** $\\longrightarrow$ Polynomials with equal Newton polytope.\n",
    "\n",
    "<table width=\"90%\" style=\"text-align:center\">\n",
    "  <tr>\n",
    "    <th>$f_1 = 1 + xy + x^2 y + x^2 y^2 + x^3 y$</th>\n",
    "    <th>$f_2 = 1 + 2 \\, xy - x^2 y  + x^2 y^2 - 2 \\, x^3 y$</th>\n",
    "    <th>$f_3 = 2 + 3 \\, xy + x^2 y  x^2 y^2 + x^3 y$</th>\n",
    "  </tr>\n",
    "  <tr>\n",
    "    <td><img src=\"attachment:newtonPolytope.png\" alt=\"Newton Polytope\" style=\"width: 50%;\"/></td>\n",
    "    <td><img src=\"attachment:newtonPolytope.png\" alt=\"Newton Polytope\" style=\"width: 50%;\"/></td>\n",
    "    <td><img src=\"attachment:newtonPolytope.png\" alt=\"Newton Polytope\" style=\"width: 50%;\"/></td>\n",
    "  </tr>\n",
    "</table> "
   ]
  },
  {
   "cell_type": "markdown",
   "id": "9b26de12",
   "metadata": {
    "slideshow": {
     "slide_type": "fragment"
    }
   },
   "source": []
  },
  {
   "attachments": {
    "newtonPolytope.png": {
     "image/png": "[encoded data removed]"
    },
    "newtonPolytope2.png": {
     "image/png": "[encoded data removed]"
    },
    "newtonPolytope3.png": {
     "image/png": "[encoded data removed]"
    }
   },
   "cell_type": "markdown",
   "id": "adb58382",
   "metadata": {},
   "source": [
    "- **Mixed sparse system** $\\longrightarrow$ Polynomials with different Newton polytope.\n",
    "            \n",
    " <table width=\"90%\" style=\"text-align:center\">\n",
    "  <tr>\n",
    "    <th>$f_1 = 1 + xy + x^2 y + x^2 y^2 + x^3 y$</th>\n",
    "    <th>$f_2 = 1 + x y + x y^2 + x y^3$</th>\n",
    "    <th>$f_3 = 1+ x+ x y + x^2 y + x^2 y^2$</th>\n",
    "  </tr>\n",
    "  <tr>\n",
    "    <td><img src=\"attachment:newtonPolytope.png\" alt=\"Newton Polytope\" style=\"width: 50%;\"/></td>\n",
    "    <td><img src=\"attachment:newtonPolytope2.png\" alt=\"Newton Polytope\" style=\"width: 50%;\"/></td>\n",
    "    <td><img src=\"attachment:newtonPolytope3.png\" alt=\"Newton Polytope\" style=\"width: 50%;\"/></td>\n",
    "  </tr>\n",
    "</table> "
   ]
  },
  {
   "attachments": {
    "sumMK.png": {
     "image/png": "[encoded data removed]"
    },
    "summand1MK.png": {
     "image/png": "[encoded data removed]"
    },
    "summand2MK.png": {
     "image/png": "[encoded data removed]"
    }
   },
   "cell_type": "markdown",
   "id": "994abee0",
   "metadata": {},
   "source": [
    "- Given an integer polytope $A \\subset \\R^n$, \n",
    "$$\n",
    "S_A := \\mathrm{span}_\\C(x^\\alpha \\in S: \\alpha \\in A)\n",
    "$$.\n",
    "\n",
    "- Given $f \\in S_A$, $g \\in S_B$, we have that $f \\, g \\in S_{A+B}$, where $A+B$ is the Minkowski sum\n",
    "$$P + Q \\{\\alpha + \\beta : \\alpha \\in P, \\beta \\in Q\\}$$\n",
    " <table style=\"text-align:center\">\n",
    "  <tr>\n",
    "    <td><img src=\"attachment:summand1MK.png\" alt=\"Newton Polytope\" style=\"width: 50%;\"/></td>\n",
    "      <td>+</td>\n",
    "      <td><img src=\"attachment:summand2MK.png\" alt=\"Newton Polytope\" style=\"width: 50%;\"/></td>\n",
    "      <td>=</td>\n",
    "    <td><img src=\"attachment:sumMK.png\" alt=\"Newton Polytope\" style=\"width: 50%;\"/></td>\n",
    "  </tr>\n",
    "</table> \n",
    "$$ $$\n",
    "\n",
    "- We have $\\C[x_1,\\dots,x_n]_{\\leq d} = S_{d \\, \\Delta_n}$, where $\\Delta_n$ is the $n$-dimensional standard simplex."
   ]
  },
  {
   "cell_type": "markdown",
   "id": "91ee4d80",
   "metadata": {
    "slideshow": {
     "slide_type": "subslide"
    }
   },
   "source": [
    "If we have sparse polynomials $f_1,\\dots,f_r$ and $r+1$ integer polytopes $A_1,\\dots,A_r,B$ such that, for each $i$, $NP(f_i) + A_i \\subseteq B$, we have the Sylvester map as \n",
    "  \n",
    "$$Sylv_{f_1,\\dots,f_r}^{A_1,\\dots,A_r;B} : (g_1,\\dots,g_r) \\mapsto \\sum_i g_i \\, f_i$$\n",
    "  \n",
    "where $g_i \\in S_{A_i}$ and $g_i \\, f_i \\in S_{B}$."
   ]
  },
  {
   "cell_type": "markdown",
   "id": "47aa6b06",
   "metadata": {
    "slideshow": {
     "slide_type": "fragment"
    }
   },
   "source": [
    "- In the previous algorithm (dense case)\n",
    "  - We restricted to the case\n",
    "   - $f_i \\in S_{d_i \\, \\Delta_{n}}$,\n",
    "   - $A_i = (d - d_i) \\, \\Delta_{n}$, and \n",
    "   - $B = d \\, \\Delta_n$\n",
    "  \n",
    " - Moreover, in the square case, we considered $d = \\sum_i d_i - n + 1$"
   ]
  },
  {
   "cell_type": "markdown",
   "id": "52b625f7",
   "metadata": {
    "slideshow": {
     "slide_type": "slide"
    }
   },
   "source": [
    "We fix $n$ integer polytopes $P_1,\\dots,P_n \\subset \\R^n$ and consider a generic sparse system \n",
    "$$(f_1,\\dots,f_n) \\in S_{P_1} \\times \\dots \\times S_{P_n}.$$"
   ]
  },
  {
   "cell_type": "markdown",
   "id": "67738269",
   "metadata": {
    "slideshow": {
     "slide_type": "fragment"
    }
   },
   "source": [
    "- **BKK theorem:** the number of solutions of the system in $(\\C \\setminus \\{0\\})^n$ is\n",
    "$$\n",
    "\\mathrm{MixedVolume}(P_1,\\dots,P_n) = \\sum_{I \\subseteq \\{1,\\dots,n\\}} \n",
    "(-1)^{n - \\# I} \\; \\# \\left(\\left(\\sum_{i \\in I} P_i \\right) \\cap \\Z^n \\right)\n",
    "$$"
   ]
  },
  {
   "cell_type": "markdown",
   "id": "2b6ec54a",
   "metadata": {
    "slideshow": {
     "slide_type": "fragment"
    }
   },
   "source": [
    "- In the same spirit, we can generalize the Macaulay bound.\n",
    " - Let $P_0 = \\Delta_n$ and consider a generic linear form $f_0$. Consider\n",
    "    $$A_i = \\sum_{\\substack{j\\neq i}} P_i \\qquad \\text{and} \\qquad\n",
    "    B = \\sum_{\\substack{0 \\leq j \\leq n}} P_i.$$\n",
    " - **Theorem:** $\\qquad$ The corank of $\\Sylv_{f_1,\\dots,f_n}^{A_1,\\dots,A_n;B}$ is $\\mathrm{MixedVolume}(P_1,\\dots,P_n)$. $$ $$\n",
    " \n",
    "  - **Theorem:** $\\qquad$ $\\Sylv_{f_0,f_1,\\dots,f_n}^{A_0,A_1,\\dots,A_n;B}$ is surjective\n",
    "   \n",
    "   \n",
    "- Replacing these maps by the ones in dense ones $\\rightarrow$ solve generic sparse systems!"
   ]
  },
  {
   "attachments": {
    "molecule.png": {
     "image/png": "[encoded data removed]"
    }
   },
   "cell_type": "markdown",
   "id": "46dfc702",
   "metadata": {},
   "source": [
    "We can solve square sparse systems using the function **EigenvalueSolver.solve_CI_mixed()**\n",
    "\n",
    "\n",
    " <table>\n",
    "  <tr>\n",
    "    <td><img src=\"attachment:molecule.png\" alt=\"Parameters of cyclohexane\" style=\"width: 400px;\"/> - Config of Cyclohexane - </td>\n",
    "    <td style=\"font-size:120%\"> Square sparse mixed system, coming from molecular biology [1, Section 3.3].\n",
    "    </br></br>\n",
    "        [1] I. Z. Emiris and B. Mourrain. \"Computer algebra methods for studying and computing molecular conformations\". Algorithmica, 25(2):372–402, 1999.</td>\n",
    "  </tr>\n",
    "</table> "
   ]
  },
  {
   "cell_type": "code",
   "execution_count": null,
   "id": "d51d9757",
   "metadata": {
    "scrolled": true,
    "slideshow": {
     "slide_type": "fragment"
    }
   },
   "outputs": [],
   "source": [
    "@polyvar s[1:3]\n",
    "β = [-13 -1 -1 24 -1; -13 -1 -1 24 -1; -13 -1 -1 24 -1]\n",
    "\n",
    "mons1 = [1 s[2]^2 s[3]^2 s[2]*s[3] s[2]^2*s[3]^2]\n",
    "mons2 = [1 s[3]^2 s[1]^2 s[3]*s[1] s[3]^2*s[1]^2]\n",
    "mons3 = [1 s[1]^2 s[2]^2 s[1]*s[2] s[1]^2*s[2]^2]\n",
    "\n",
    "Fmol = [β[1,:]'*mons1';β[2,:]'*mons2';β[3,:]'*mons3'][:]\n",
    "\n",
    "display(Fmol)"
   ]
  },
  {
   "cell_type": "code",
   "execution_count": null,
   "id": "cbf12deb",
   "metadata": {
    "scrolled": false,
    "slideshow": {
     "slide_type": "subslide"
    }
   },
   "outputs": [],
   "source": [
    "display(Fmol)\n",
    "\n",
    "@time sol, A₀, E, D = EigenvalueSolver.solve_CI_mixed(Fmol,s;verbose=true)\n",
    "\n",
    "BWEs = EigenvalueSolver.get_residual(Fmol,sol,s)\n",
    "BWE = maximum(BWEs)\n",
    "println(\"Maximal backward error $(BWE)\")"
   ]
  },
  {
   "cell_type": "markdown",
   "id": "d80830de",
   "metadata": {
    "slideshow": {
     "slide_type": "slide"
    }
   },
   "source": [
    "### How big are these matrices?\n",
    "\n",
    "- Let us concentrate in dense systems again:\n",
    "  - Our previous algorithm for sparse system consider $B = (\\sum_{i \\geq 1} \\deg(f_i) + 1) \\cdot \\Delta_n$\n",
    "  - However, our previous dense algorithm will consider $B = (\\sum_{i \\geq 1} \\deg(f_i) - n + 1) \\cdot \\Delta_n \\qquad$   (Macaulay bound)\n",
    "\n",
    "\n",
    "- This is a great computational disadvantage, as we work with bigger matrices.\n",
    "\n",
    "\n",
    "- In general, the smallest polytopes $A_0,\\dots,A_n,B$ that we can consider are determined by properties of the Newton polytopes of $f_1,\\dots,f_n$. \n",
    "\n",
    "\n",
    "- Related to problem of computing regularity of complete intersections in a toric variety."
   ]
  },
  {
   "cell_type": "markdown",
   "id": "df5b5a3a",
   "metadata": {
    "slideshow": {
     "slide_type": "subslide"
    }
   },
   "source": [
    "- In some cases, we know some better bounds, e.g., in the **unmixed case**.\n",
    "\n",
    "  - Fix a polytope $P$ and integers $d_1,\\dots,d_n$. \n",
    "  \n",
    "  - Consider an unmixed polynomial system $(f_1,\\dots,f_n)$ where $f_i \\in S_{d_i \\cdot P}$.\n",
    "  \n",
    "  - If the BKK bound is tight for this system, then we can consider\n",
    "  \n",
    "  $$B = \\left(\\sum_{i \\geq 1} \\deg(f_i) - \\mathrm{Codegree}(P) + 2 \\right) \\, P $$\n",
    "  \n",
    "  - The codegree of $P$ is the smallest $\\lambda \\in \\N$ such that $\\lambda \\cdot P$ has an integer point in its relative interior.\n",
    "    - For example, the codegree of $\\Delta_n$ is $n+1$ $\\quad \\longleftarrow \\quad $ Macaulay bound!\n",
    "  \n",
    "  - The function **EigenvalueSolver.solve_CI_unmixed()** takes into account this improvement."
   ]
  },
  {
   "cell_type": "code",
   "execution_count": null,
   "id": "6ca39507",
   "metadata": {
    "scrolled": false,
    "slideshow": {
     "slide_type": "fragment"
    }
   },
   "outputs": [],
   "source": [
    "A = [0 0; 1 0; 1 1; 0 1; 2 2] # monomials whose convex hull is the polytope P\n",
    "d = [5;12] # equation i has support inside d[i]*P\n",
    "\n",
    "Funm = EigenvalueSolver.getRandomSystem_unmixed([x,y],A,d)\n",
    "\n",
    "@time sol, A₀, E, D = EigenvalueSolver.solve_CI_unmixed(Funm,[x,y],A,d; verbose = true)\n",
    "\n",
    "println(\"\\nMaximal backward error $(maximum(EigenvalueSolver.get_residual(Funm,sol,[x,y])))\")"
   ]
  },
  {
   "cell_type": "markdown",
   "id": "0b6daa5d",
   "metadata": {
    "slideshow": {
     "slide_type": "slide"
    }
   },
   "source": [
    "## Solutions at infinity, once again\n",
    "\n",
    "As in the dense case, sparse polynomial systems can also have solutions at infinity.  Consider the following system in $\\C[x,y]$,\n",
    "  $$\\left\\{\\begin{array} \\\n",
    "  f := y^2+y+x+1 \\\\ g := - y^2+ 2\\, y - x+3 \\end{array}\\right.$$\n",
    "\n",
    "It has only one solution, $[x = -21, y = 4]$. However, BKK bound theorem $2$. Let's find it!"
   ]
  },
  {
   "cell_type": "code",
   "execution_count": null,
   "id": "26714310",
   "metadata": {
    "scrolled": false,
    "slideshow": {
     "slide_type": "fragment"
    }
   },
   "outputs": [],
   "source": [
    "A = [0 0; 1 0; 0 1; 0 2]\n",
    "\n",
    "coeffF = [1 1 1 1 ; 3 -1 -2 -1]\n",
    "\n",
    "monsF = EigenvalueSolver.exptomon(A,[x,y])\n",
    "println(monsF)\n",
    "\n",
    "F = coeffF*monsF # F = [y^2+y+x+1,- y^2-2*y - x+3]\n",
    "\n",
    "display(F)\n",
    "\n",
    "@time sol, A₀, E, D = EigenvalueSolver.solve_CI_unmixed(F,[x,y],A,[1,1]; verbose = true)\n",
    "\n",
    "println(\"\\nMaximal backward error $((EigenvalueSolver.get_residual(F,sol,[x,y])))\")"
   ]
  },
  {
   "cell_type": "code",
   "execution_count": null,
   "id": "84085c40",
   "metadata": {
    "scrolled": false,
    "slideshow": {
     "slide_type": "subslide"
    }
   },
   "outputs": [],
   "source": [
    "@polyvar t\n",
    "\n",
    "Ft = subs.(F,(x,y) => (t^2*x,t*y))\n",
    "\n",
    "display(Ft)\n",
    "\n",
    "for i = 1:8\n",
    "    println(\"$t = 10^$i \\t \",subs.(Ft,(x,y,t) => (x,y,10^i))/(10^i)^2) \n",
    "end\n",
    "println(\"\\n\")\n",
    "for i = 1:8\n",
    "    println(\"$t = 10^$i, F(-t^2, t)/t^2 = \", subs.(Ft,(x,y,t) => (-1,1,10^i))/(10^i)^2,)\n",
    "end"
   ]
  },
  {
   "cell_type": "code",
   "execution_count": null,
   "id": "72762542",
   "metadata": {
    "scrolled": false,
    "slideshow": {
     "slide_type": "subslide"
    }
   },
   "outputs": [],
   "source": [
    "Σ = EigenvalueSolver.exptomon(D,[x,y])\n",
    "σ = map(ee -> EigenvalueSolver.exptomon(ee,[x,y]),E[1:end-1])\n",
    "\n",
    "MacF = EigenvalueSolver.getRes(F,Σ,σ,[x, y])\n",
    "\n",
    "evt = ev((-1*t^2,1*t),Σ)\n",
    "\n",
    "println(\"\\t\",evt',\"* 1/t^4\")\n",
    "display(vcat(transpose(vcat([(…)],reduce(vcat,[f[mod(i,3)+1].*σ[i] for i=1:2]))),hcat(Σ,round.(Int, MacF))))\n",
    "println(\"=\")\n",
    "\n",
    "display(subs.(reduce(vcat,[F[i].*σ[i]./t^4 for i=1:2]),(x,y) => (-t^2,t)))\n",
    "\n",
    "println(\"→ 0, when t → ∞\")\n",
    "\n",
    "println(\"\\n\\n We conclude that, \")\n",
    "display(div.(evt,t^4))\n",
    "println(\"belongs to cokernel of Mac\")"
   ]
  },
  {
   "cell_type": "markdown",
   "id": "a324f08d",
   "metadata": {
    "slideshow": {
     "slide_type": "slide"
    }
   },
   "source": [
    "# Wrapping up\n",
    "\n",
    "- Symbolic-numeric algorithm reduce problem to linear algebra and solve it numerically.\n",
    "\n",
    "- Solve polynomial systems by computing eigenvalues of multiplication maps.\n",
    "\n",
    "- Approximate these maps using Macaulay matrices $\\rightarrow$ size depends on (Castelnuovo-Mumford) regularity.\n",
    "\n",
    "- Approach works faster for overdetermined systems.\n",
    "\n",
    "- Correctness depends on the solutions at infinity.\n",
    "\n",
    "- You can play with these algorithms using *EigenvalueSolver.jl*\n",
    "\\\n",
    "https://github.com/simontelen/JuliaEigenvalueSolver"
   ]
  },
  {
   "cell_type": "markdown",
   "id": "267f8e0e",
   "metadata": {},
   "source": [
    " "
   ]
  }
 ],
 "metadata": {
  "kernelspec": {
   "display_name": "Julia 1.7.2",
   "language": "julia",
   "name": "julia-1.7"
  },
  "language_info": {
   "file_extension": ".jl",
   "mimetype": "application/julia",
   "name": "julia",
   "version": "1.8.1"
  },
  "rise": {
   "scroll": true
  }
 },
 "nbformat": 4,
 "nbformat_minor": 5
}
