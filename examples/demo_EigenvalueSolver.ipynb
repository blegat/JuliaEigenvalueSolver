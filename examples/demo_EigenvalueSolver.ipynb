{
 "cells": [
  {
   "cell_type": "markdown",
   "metadata": {},
   "source": [
    "# Using **EigenvalueSolver.jl**\n",
    "\n",
    "This is a demo file illustrating how to use the functions in **EigenvalueSolver.jl**.\n",
    "More details can be found in [1, Section 4].\n",
    "\n",
    "[1] M. R. Bender and S. Telen. \"Yet another eigenvalue algorithm for solving polynomial systems.\" *arXiv preprint arXiv:2105.08472* (2021). https://arxiv.org/abs/2105.08472"
   ]
  },
  {
   "cell_type": "code",
   "execution_count": null,
   "metadata": {},
   "outputs": [],
   "source": [
    "include(\"../src/EigenvalueSolver.jl\")\n",
    "using DynamicPolynomials\n",
    "\n",
    "# To install \"SmithNormalForm.jl\" use the following command\n",
    "# Pkg.add(url = \"https://github.com/wildart/SmithNormalForm.jl.git\")"
   ]
  },
  {
   "cell_type": "markdown",
   "metadata": {},
   "source": [
    "## Square systems\n",
    "\n",
    "*The number of equations agrees with the number of variables*"
   ]
  },
  {
   "cell_type": "markdown",
   "metadata": {},
   "source": [
    "Construct a polynomial system ${\\cal F} = (f_1, f_2)$ given by two plane curves of degree 20. "
   ]
  },
  {
   "cell_type": "code",
   "execution_count": null,
   "metadata": {},
   "outputs": [],
   "source": [
    "@polyvar x[1:2]\n",
    "ds = [20;20]\n",
    "f = EigenvalueSolver.getRandomSystem_dense(x,ds)"
   ]
  },
  {
   "cell_type": "markdown",
   "metadata": {},
   "source": [
    "Compute all intersection points of these two curves."
   ]
  },
  {
   "cell_type": "code",
   "execution_count": null,
   "metadata": {},
   "outputs": [],
   "source": [
    "@time sol = EigenvalueSolver.solve_CI_dense(f,x; DBD = false, verbose = true);"
   ]
  },
  {
   "cell_type": "markdown",
   "metadata": {},
   "source": [
    "Compute the backward error of all computed solutions"
   ]
  },
  {
   "cell_type": "code",
   "execution_count": null,
   "metadata": {},
   "outputs": [],
   "source": [
    "BWEs = EigenvalueSolver.get_residual(f,sol,x)\n",
    "BWE = maximum(BWEs)"
   ]
  },
  {
   "cell_type": "markdown",
   "metadata": {},
   "source": [
    "Consider a dense, 3-dimensional system ${\\mathcal F} = \\{f_1,f_2,f_3\\}$ given by equations of degree 4, 8 and 12. "
   ]
  },
  {
   "cell_type": "code",
   "execution_count": null,
   "metadata": {},
   "outputs": [],
   "source": [
    "@polyvar x[1:3]\n",
    "ds = [4;8;12] # degrees of the equations\n",
    "f = EigenvalueSolver.getRandomSystem_dense(x,ds)\n",
    "@time sol = EigenvalueSolver.solve_CI_dense(f,x, verbose = true)\n",
    "BWEs = EigenvalueSolver.get_residual(f,sol,x) # compute the relative backward error of all solutions\n",
    "BWE = maximum(BWEs)\n",
    "println(\"Maximal backward error $(BWE)\")"
   ]
  },
  {
   "cell_type": "markdown",
   "metadata": {},
   "source": [
    "The package provides a specialized function to generate and solve *unmixed systems*."
   ]
  },
  {
   "cell_type": "code",
   "execution_count": null,
   "metadata": {},
   "outputs": [],
   "source": [
    "@polyvar x[1:2];\n",
    "A = [0 0; 1 0; 1 1; 0 1; 2 2] # monomials whose convex hull is the polytope P\n",
    "d = [5;12] # equation i has support inside d[i]*P\n",
    "f = EigenvalueSolver.getRandomSystem_unmixed(x,A,d)\n",
    "@time sol, A₀, E, D = EigenvalueSolver.solve_CI_unmixed(f,x,A,d; verbose = true)\n",
    "BWEs = EigenvalueSolver.get_residual(f,sol,x) # compute the relative backward error of all solutions\n",
    "BWE = maximum(BWEs)\n",
    "println(\"Maximal backward error $(BWE)\")"
   ]
  },
  {
   "cell_type": "markdown",
   "metadata": {},
   "source": [
    "The function **solve_CI_unmixed** returns an admissible tuple, which can be re-used by plugging it into the function **solve_EV**."
   ]
  },
  {
   "cell_type": "code",
   "execution_count": null,
   "metadata": {
    "scrolled": true
   },
   "outputs": [],
   "source": [
    "sol = EigenvalueSolver.solve_EV(f, x, A₀, E, D; verbose = true)\n",
    "BWEs = EigenvalueSolver.get_residual(f,sol,x) # compute the relative backward error of all solutions\n",
    "BWE = maximum(BWEs)\n",
    "println(\"Maximal backward error $(BWE)\")"
   ]
  },
  {
   "cell_type": "markdown",
   "metadata": {},
   "source": [
    "The following lines generate and solve a random square, *multi-graded dense system*."
   ]
  },
  {
   "cell_type": "code",
   "execution_count": null,
   "metadata": {},
   "outputs": [],
   "source": [
    "@polyvar x[1:4]\n",
    "vargroups = [[x[1:2]];[x[3:4]]] # groups of variables\n",
    "ds = [1 6;2 1;3 2;4 1] # multidegrees of the 4 equations in the 2 variable groups\n",
    "f = EigenvalueSolver.getRandomSystem_multi_dense(vargroups,ds)\n",
    "@time sol = EigenvalueSolver.solve_CI_multi_dense(f,vargroups,ds;verbose=true)\n",
    "BWEs = EigenvalueSolver.get_residual(f,sol,x) # compute the relative backward error of all solutions\n",
    "BWE = maximum(BWEs)\n",
    "println(\"Maximal backward error $(BWE)\")"
   ]
  },
  {
   "cell_type": "markdown",
   "metadata": {},
   "source": [
    "The package also provides a specialized function to generate and solve *multi-unmixed systems*."
   ]
  },
  {
   "cell_type": "code",
   "execution_count": null,
   "metadata": {},
   "outputs": [],
   "source": [
    "@polyvar x[1:4]\n",
    "A1 = [0 0; 1 0; 1 1; 0 1; 2 2]\n",
    "A2 = 2*[0 0; 1 0; 0 1]\n",
    "sups = [[A1]; [A2]]\n",
    "vargroups = [[x[1:2]];[x[3:4]]]\n",
    "ds = ones(Int,4,2)\n",
    "f = EigenvalueSolver.getRandomSystem_multi_unmixed(vargroups,sups,ds;complex = false)\n",
    "@time sol, A₀, E, D = EigenvalueSolver.solve_CI_multi_unmixed(f,vargroups,sups,ds; verbose=true)\n",
    "BWEs = EigenvalueSolver.get_residual(f,sol,x) # compute the relative backward error of all solutions\n",
    "BWE = maximum(BWEs)\n",
    "println(\"Maximal backward error $(BWE)\")"
   ]
  },
  {
   "cell_type": "markdown",
   "metadata": {},
   "source": [
    "The following is a classical example of a square, *mixed system*, coming from molecular biology [2, Section 3.3].\n",
    "\n",
    "[2] I. Z. Emiris and B. Mourrain. \"Computer algebra methods for studying and computing molecular conformations\". *Algorithmica*, 25(2):372–402, 1999."
   ]
  },
  {
   "cell_type": "code",
   "execution_count": null,
   "metadata": {},
   "outputs": [],
   "source": [
    "@polyvar t[1:3]\n",
    "β = [-13 -1 -1 24 -1; -13 -1 -1 24 -1; -13 -1 -1 24 -1]\n",
    "mons1 = [1 t[2]^2 t[3]^2 t[2]*t[3] t[2]^2*t[3]^2]\n",
    "mons2 = [1 t[3]^2 t[1]^2 t[3]*t[1] t[3]^2*t[1]^2]\n",
    "mons3 = [1 t[1]^2 t[2]^2 t[1]*t[2] t[1]^2*t[2]^2]\n",
    "f = [β[1,:]'*mons1';β[2,:]'*mons2';β[3,:]'*mons3'][:]\n",
    "@time sol, A₀, E, D = EigenvalueSolver.solve_CI_mixed(f,t;verbose=true)\n",
    "BWEs = EigenvalueSolver.get_residual(f,sol,t)\n",
    "BWE = maximum(BWEs)\n",
    "println(\"Maximal backward error $(BWE)\")"
   ]
  },
  {
   "cell_type": "markdown",
   "metadata": {},
   "source": [
    "It is possible to re-use the previous computation to avoid computing the admissible tuple again."
   ]
  },
  {
   "cell_type": "code",
   "execution_count": null,
   "metadata": {},
   "outputs": [],
   "source": [
    "@time EigenvalueSolver.solve_EV(f,t,A₀,E,D;check_criterion = false,verbose=true)\n",
    "BWEs = EigenvalueSolver.get_residual(f,sol,t)\n",
    "BWE = maximum(BWEs)\n",
    "println(\"Maximal backward error $(BWE)\")"
   ]
  },
  {
   "cell_type": "markdown",
   "metadata": {},
   "source": [
    "## Overdetermined systems  [1, Section 4.2]\n",
    "*The number of equations is larger than the number of variables*"
   ]
  },
  {
   "cell_type": "markdown",
   "metadata": {},
   "source": [
    "The following lines generate and solve an overdetermined unmixed system in 15 variables with 100 solutions.\n",
    "\n",
    "The function **solve_OD_unmixed** implements the incremental construction [1, Algorithm 3]"
   ]
  },
  {
   "cell_type": "code",
   "execution_count": null,
   "metadata": {},
   "outputs": [],
   "source": [
    "using LinearAlgebra\n",
    "@polyvar x[1:15]\n",
    "A = Matrix(I,15,15)\n",
    "A = [A[1:14,:]; sum(A[[14;15],:], dims = 1);zeros(1,15)]\n",
    "A = Int.(A)\n",
    "A[14,:] = A[14,:]+A[13,:] \n",
    "n = 15\n",
    "F = EigenvalueSolver.getRandomSystem_unmixed(x, A, [2]; complex = true)[1]\n",
    "mons = monomials(F)\n",
    "δ = 100\n",
    "pts = [randn(ComplexF64,n) for i = 1:δ]\n",
    "println(\"the system has $δ solutions\")\n",
    "f, κ = EigenvalueSolver.getVanishingPolynomials(pts, mons, x;augm_prec = false)\n",
    "α = ones(Int,length(f))*2\n",
    "R_offline = @timed EigenvalueSolver.solve_OD_unmixed(f, x, A, α;complex = true, verbose=true)\n",
    "BWEs = EigenvalueSolver.get_residual(f,R_offline.value,x)\n",
    "BWE = maximum(BWEs)\n",
    "println(\"Maximal backward error $(BWE)\")"
   ]
  }
 ],
 "metadata": {
  "kernelspec": {
   "display_name": "Julia 1.5.0",
   "language": "julia",
   "name": "julia-1.5"
  },
  "language_info": {
   "file_extension": ".jl",
   "mimetype": "application/julia",
   "name": "julia",
   "version": "1.5.3"
  }
 },
 "nbformat": 4,
 "nbformat_minor": 4
}
